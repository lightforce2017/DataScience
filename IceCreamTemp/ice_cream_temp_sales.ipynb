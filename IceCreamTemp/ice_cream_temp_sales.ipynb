{
 "cells": [
  {
   "cell_type": "markdown",
   "id": "74d27acf",
   "metadata": {},
   "source": [
    "# Описание задачи\n",
    "\n",
    "Есть данные за несколько дней по температуре воздуха. За этот период зафиксированы продажи.\n",
    "\n",
    "Нужно определить зависимость продаж мороженого от температуры воздуха, и значение этой зависимости."
   ]
  },
  {
   "cell_type": "markdown",
   "id": "09ccfdac",
   "metadata": {},
   "source": [
    "# Импорт библиотек"
   ]
  },
  {
   "cell_type": "code",
   "execution_count": 1,
   "id": "00bca119",
   "metadata": {},
   "outputs": [],
   "source": [
    "import pandas as pd\n",
    "import numpy as np\n",
    "import matplotlib.pyplot as plt\n",
    "import datetime"
   ]
  },
  {
   "cell_type": "markdown",
   "id": "b7f968db",
   "metadata": {},
   "source": [
    "# Загрузка данных\n",
    "\n",
    "Источник: https://www.kaggle.com/vinicius150987/ice-cream-revenue"
   ]
  },
  {
   "cell_type": "code",
   "execution_count": 2,
   "id": "49360ade",
   "metadata": {},
   "outputs": [
    {
     "data": {
      "text/html": [
       "<div>\n",
       "<style scoped>\n",
       "    .dataframe tbody tr th:only-of-type {\n",
       "        vertical-align: middle;\n",
       "    }\n",
       "\n",
       "    .dataframe tbody tr th {\n",
       "        vertical-align: top;\n",
       "    }\n",
       "\n",
       "    .dataframe thead th {\n",
       "        text-align: right;\n",
       "    }\n",
       "</style>\n",
       "<table border=\"1\" class=\"dataframe\">\n",
       "  <thead>\n",
       "    <tr style=\"text-align: right;\">\n",
       "      <th></th>\n",
       "      <th>Temperature</th>\n",
       "      <th>Revenue</th>\n",
       "    </tr>\n",
       "  </thead>\n",
       "  <tbody>\n",
       "    <tr>\n",
       "      <th>0</th>\n",
       "      <td>24.566884</td>\n",
       "      <td>534.799028</td>\n",
       "    </tr>\n",
       "    <tr>\n",
       "      <th>1</th>\n",
       "      <td>26.005191</td>\n",
       "      <td>625.190122</td>\n",
       "    </tr>\n",
       "    <tr>\n",
       "      <th>2</th>\n",
       "      <td>27.790554</td>\n",
       "      <td>660.632289</td>\n",
       "    </tr>\n",
       "    <tr>\n",
       "      <th>3</th>\n",
       "      <td>20.595335</td>\n",
       "      <td>487.706960</td>\n",
       "    </tr>\n",
       "    <tr>\n",
       "      <th>4</th>\n",
       "      <td>11.503498</td>\n",
       "      <td>316.240194</td>\n",
       "    </tr>\n",
       "  </tbody>\n",
       "</table>\n",
       "</div>"
      ],
      "text/plain": [
       "   Temperature     Revenue\n",
       "0    24.566884  534.799028\n",
       "1    26.005191  625.190122\n",
       "2    27.790554  660.632289\n",
       "3    20.595335  487.706960\n",
       "4    11.503498  316.240194"
      ]
     },
     "execution_count": 2,
     "metadata": {},
     "output_type": "execute_result"
    }
   ],
   "source": [
    "df = pd.read_csv('IceCreamData.csv')\n",
    "df.head()"
   ]
  },
  {
   "cell_type": "markdown",
   "id": "281d70c6",
   "metadata": {},
   "source": [
    "# Анализ данных\n",
    "\n",
    "Определим оси:\n",
    "\n",
    "**X** - температура воздуха, °C\n",
    "\n",
    "**Y** - уровень продаж, $"
   ]
  },
  {
   "cell_type": "code",
   "execution_count": 3,
   "id": "6dd8d4ee",
   "metadata": {},
   "outputs": [],
   "source": [
    "X = df.iloc[:, 0]\n",
    "Y = df.iloc[:, 1]"
   ]
  },
  {
   "cell_type": "markdown",
   "id": "2f8f2ec1",
   "metadata": {},
   "source": [
    "Для определения зависимости между переменными используем коэффициент Пирсона с помощью функции `corr` библиотеки pandas:"
   ]
  },
  {
   "cell_type": "code",
   "execution_count": 4,
   "id": "2903ff12",
   "metadata": {},
   "outputs": [
    {
     "data": {
      "text/html": [
       "<div>\n",
       "<style scoped>\n",
       "    .dataframe tbody tr th:only-of-type {\n",
       "        vertical-align: middle;\n",
       "    }\n",
       "\n",
       "    .dataframe tbody tr th {\n",
       "        vertical-align: top;\n",
       "    }\n",
       "\n",
       "    .dataframe thead th {\n",
       "        text-align: right;\n",
       "    }\n",
       "</style>\n",
       "<table border=\"1\" class=\"dataframe\">\n",
       "  <thead>\n",
       "    <tr style=\"text-align: right;\">\n",
       "      <th></th>\n",
       "      <th>Temperature</th>\n",
       "      <th>Revenue</th>\n",
       "    </tr>\n",
       "  </thead>\n",
       "  <tbody>\n",
       "    <tr>\n",
       "      <th>Temperature</th>\n",
       "      <td>1.000000</td>\n",
       "      <td>0.989802</td>\n",
       "    </tr>\n",
       "    <tr>\n",
       "      <th>Revenue</th>\n",
       "      <td>0.989802</td>\n",
       "      <td>1.000000</td>\n",
       "    </tr>\n",
       "  </tbody>\n",
       "</table>\n",
       "</div>"
      ],
      "text/plain": [
       "             Temperature   Revenue\n",
       "Temperature     1.000000  0.989802\n",
       "Revenue         0.989802  1.000000"
      ]
     },
     "execution_count": 4,
     "metadata": {},
     "output_type": "execute_result"
    }
   ],
   "source": [
    "df.corr(method ='pearson')"
   ]
  },
  {
   "cell_type": "markdown",
   "id": "676fbc60",
   "metadata": {},
   "source": [
    "В результате получае таблицу значений, в которой на пересечении строк и столбцов значение коэффициента Пирсона.\n",
    "\n",
    "Интерпретировать его можно следующим образом:\n",
    "- с 0.9 по 1 очень сильная корреляция;\n",
    "- с 0.7 по 0.9 сильная корреляция;\n",
    "- с 0.5 по 0.7 средняя корреляция;\n",
    "- с 0.3 по 0.5 слабая корреляция;\n",
    "- с 0 по 0.3 незначительная корреляция.\n",
    "\n",
    "Результат показывает, что присутствует сильная зависимость переменных друг от друга.\n",
    "\n",
    "Показывает это и график:"
   ]
  },
  {
   "cell_type": "code",
   "execution_count": 5,
   "id": "9dfdbb20",
   "metadata": {},
   "outputs": [
    {
     "data": {
      "text/plain": [
       "Text(0, 0.5, 'Sales')"
      ]
     },
     "execution_count": 5,
     "metadata": {},
     "output_type": "execute_result"
    },
    {
     "data": {
      "image/png": "[encoded data removed]",
      "text/plain": [
       "<Figure size 432x288 with 1 Axes>"
      ]
     },
     "metadata": {
      "needs_background": "light"
     },
     "output_type": "display_data"
    }
   ],
   "source": [
    "plt.scatter(X, Y)\n",
    "plt.xlabel(\"Temperature °C\")\n",
    "plt.ylabel(\"Sales\")"
   ]
  },
  {
   "cell_type": "markdown",
   "id": "ebae8678",
   "metadata": {},
   "source": [
    "Расположение точек позволяет сделать вывод о линейной зависимости переменных.\n",
    "\n",
    "Построим график линейной регрессии:"
   ]
  },
  {
   "cell_type": "code",
   "execution_count": 6,
   "id": "e2891660",
   "metadata": {},
   "outputs": [
    {
     "data": {
      "image/png": "[encoded data removed]",
      "text/plain": [
       "<Figure size 432x288 with 1 Axes>"
      ]
     },
     "metadata": {
      "needs_background": "light"
     },
     "output_type": "display_data"
    }
   ],
   "source": [
    "from sklearn.linear_model import LinearRegression\n",
    "\n",
    "X = df.iloc[:, 0].values.reshape(-1, 1)  # values converts it into a numpy array\n",
    "Y = df.iloc[:, 1].values.reshape(-1, 1)  # -1 means that calculate the dimension of rows, but have 1 column\n",
    "linear_regressor = LinearRegression()  # create object for the class\n",
    "linear_regressor.fit(X, Y)  # perform linear regression\n",
    "Y_pred = linear_regressor.predict(X)  # make predictions\n",
    "\n",
    "plt.scatter(X, Y)\n",
    "plt.plot(X, Y_pred, color='red')\n",
    "plt.xlabel(\"Temperature °C\")\n",
    "plt.ylabel(\"Sales\")\n",
    "plt.show()"
   ]
  },
  {
   "cell_type": "markdown",
   "id": "873b8182",
   "metadata": {},
   "source": [
    "# Прогноз\n",
    "\n",
    "Предположим, у нас есть прогноз погоды на неделю, и нужно предсказать будущие продажи.\n",
    "\n",
    "В качестве примера сгенерируем прогноз на неделю с температурой от 15 до 44 градусов:"
   ]
  },
  {
   "cell_type": "code",
   "execution_count": 7,
   "id": "45b1b02e",
   "metadata": {},
   "outputs": [
    {
     "data": {
      "text/plain": [
       "array([15, 35, 27, 29, 41, 24, 28])"
      ]
     },
     "execution_count": 7,
     "metadata": {},
     "output_type": "execute_result"
    }
   ],
   "source": [
    "X = np.random.randint(15,45,7)\n",
    "X"
   ]
  },
  {
   "cell_type": "markdown",
   "id": "7785fe5a",
   "metadata": {},
   "source": [
    "и построим прогноз:"
   ]
  },
  {
   "cell_type": "code",
   "execution_count": 8,
   "id": "bfa34ae9",
   "metadata": {},
   "outputs": [
    {
     "data": {
      "text/html": [
       "<div>\n",
       "<style scoped>\n",
       "    .dataframe tbody tr th:only-of-type {\n",
       "        vertical-align: middle;\n",
       "    }\n",
       "\n",
       "    .dataframe tbody tr th {\n",
       "        vertical-align: top;\n",
       "    }\n",
       "\n",
       "    .dataframe thead th {\n",
       "        text-align: right;\n",
       "    }\n",
       "</style>\n",
       "<table border=\"1\" class=\"dataframe\">\n",
       "  <thead>\n",
       "    <tr style=\"text-align: right;\">\n",
       "      <th></th>\n",
       "      <th>temp</th>\n",
       "      <th>pred_sales</th>\n",
       "    </tr>\n",
       "  </thead>\n",
       "  <tbody>\n",
       "    <tr>\n",
       "      <th>0</th>\n",
       "      <td>15</td>\n",
       "      <td>366.485650</td>\n",
       "    </tr>\n",
       "    <tr>\n",
       "      <th>1</th>\n",
       "      <td>35</td>\n",
       "      <td>795.358160</td>\n",
       "    </tr>\n",
       "    <tr>\n",
       "      <th>2</th>\n",
       "      <td>27</td>\n",
       "      <td>623.809156</td>\n",
       "    </tr>\n",
       "    <tr>\n",
       "      <th>3</th>\n",
       "      <td>29</td>\n",
       "      <td>666.696407</td>\n",
       "    </tr>\n",
       "    <tr>\n",
       "      <th>4</th>\n",
       "      <td>41</td>\n",
       "      <td>924.019913</td>\n",
       "    </tr>\n",
       "    <tr>\n",
       "      <th>5</th>\n",
       "      <td>24</td>\n",
       "      <td>559.478279</td>\n",
       "    </tr>\n",
       "    <tr>\n",
       "      <th>6</th>\n",
       "      <td>28</td>\n",
       "      <td>645.252781</td>\n",
       "    </tr>\n",
       "  </tbody>\n",
       "</table>\n",
       "</div>"
      ],
      "text/plain": [
       "   temp  pred_sales\n",
       "0    15  366.485650\n",
       "1    35  795.358160\n",
       "2    27  623.809156\n",
       "3    29  666.696407\n",
       "4    41  924.019913\n",
       "5    24  559.478279\n",
       "6    28  645.252781"
      ]
     },
     "execution_count": 8,
     "metadata": {},
     "output_type": "execute_result"
    }
   ],
   "source": [
    "Y_pred = linear_regressor.predict(X.reshape(-1, 1)) \n",
    "df_res = pd.DataFrame({'temp': X, 'pred_sales': Y_pred.reshape(-1)})\n",
    "df_res"
   ]
  },
  {
   "cell_type": "markdown",
   "id": "75c7a9bf",
   "metadata": {},
   "source": [
    "На графике это выглядит так:"
   ]
  },
  {
   "cell_type": "code",
   "execution_count": 9,
   "id": "7d6548af",
   "metadata": {},
   "outputs": [],
   "source": [
    "X = df_res['temp'].tolist()\n",
    "Y_pred = df_res['pred_sales'].tolist()"
   ]
  },
  {
   "cell_type": "code",
   "execution_count": 10,
   "id": "e89a2e65",
   "metadata": {},
   "outputs": [
    {
     "data": {
      "image/png": "[encoded data removed]",
      "text/plain": [
       "<Figure size 432x288 with 1 Axes>"
      ]
     },
     "metadata": {
      "needs_background": "light"
     },
     "output_type": "display_data"
    }
   ],
   "source": [
    "xdata = np.arange(len(X))\n",
    "\n",
    "fig, ax = plt.subplots()\n",
    "plt.rcParams[\"figure.figsize\"] = (10,8)\n",
    "ax.plot(xdata, Y_pred)\n",
    "\n",
    "ax.set_ylabel('Sales')\n",
    "ax.set_xlabel('Temperature °C')\n",
    "ax.set_title('Sales by temperature')\n",
    "ax.set_xticks(xdata)\n",
    "ax.set_xticklabels(X)\n",
    "\n",
    "plt.show()"
   ]
  },
  {
   "cell_type": "markdown",
   "id": "dd1b0d90",
   "metadata": {},
   "source": [
    "Видим, что продажи будут средними (выше 500$ в день), ожидается скачок в 6 день и падение в последний день недели из-за понижения температуры."
   ]
  },
  {
   "cell_type": "markdown",
   "id": "3a4e4c6c",
   "metadata": {},
   "source": [
    "# Реальные данные\n",
    "\n",
    "Рассмотрим реальные данные с сайта https://openweathermap.org/, который позволяет с помощью API получать данные по погоде.\n",
    "\n",
    "Возьмем город Irpin (`lat = 50.5218, lon = 30.2505`) и данные за 7 дней."
   ]
  },
  {
   "cell_type": "code",
   "execution_count": 11,
   "id": "4012056f",
   "metadata": {},
   "outputs": [
    {
     "name": "stdout",
     "output_type": "stream",
     "text": [
      "<Response [200]>\n"
     ]
    }
   ],
   "source": [
    "import requests\n",
    "import os\n",
    "from dotenv import load_dotenv\n",
    "from dotenv import dotenv_values\n",
    "\n",
    "API_KEY = dotenv_values(\"..\\.env\")['API_KEY']\n",
    "lat = 50.5218\n",
    "lon = 30.2505\n",
    "URL = 'http://api.openweathermap.org/data/2.5/onecall?lat='+str(lat)+'&lon='+str(lon)+'&units=metric&lang=ru&exclude=minutely,hourly&appid='+API_KEY\n",
    "response = requests.get(URL)\n",
    "print(response)"
   ]
  },
  {
   "cell_type": "markdown",
   "id": "95e51e39",
   "metadata": {},
   "source": [
    "Результат запроса 200, смотрим данные:"
   ]
  },
  {
   "cell_type": "code",
   "execution_count": 12,
   "id": "18821142",
   "metadata": {},
   "outputs": [
    {
     "data": {
      "text/plain": [
       "{'lat': 50.5218,\n",
       " 'lon': 30.2505,\n",
       " 'timezone': 'Europe/Kiev',\n",
       " 'timezone_offset': 7200,\n",
       " 'current': {'dt': 1642517173,\n",
       "  'sunrise': 1642485078,\n",
       "  'sunset': 1642516017,\n",
       "  'temp': -2.81,\n",
       "  'feels_like': -9.81,\n",
       "  'pressure': 1015,\n",
       "  'humidity': 56,\n",
       "  'dew_point': -9.53,\n",
       "  'uvi': 0,\n",
       "  'clouds': 75,\n",
       "  'visibility': 10000,\n",
       "  'wind_speed': 8.94,\n",
       "  'wind_deg': 320,\n",
       "  'wind_gust': 0,\n",
       "  'weather': [{'id': 803,\n",
       "    'main': 'Clouds',\n",
       "    'description': 'облачно с прояснениями',\n",
       "    'icon': '04n'}]},\n",
       " 'daily': [{'dt': 1642500000,\n",
       "   'sunrise': 1642485078,\n",
       "   'sunset': 1642516017,\n",
       "   'moonrise': 1642516620,\n",
       "   'moonset': 1642487880,\n",
       "   'moon_phase': 0.5,\n",
       "   'temp': {'day': -2.5,\n",
       "    'min': -4.56,\n",
       "    'max': -1.04,\n",
       "    'night': -4.56,\n",
       "    'eve': -3,\n",
       "    'morn': -4.13},\n",
       "   'feels_like': {'day': -9.5, 'night': -11.56, 'eve': -10, 'morn': -11.13},\n",
       "   'pressure': 1012,\n",
       "   'humidity': 63,\n",
       "   'dew_point': -8.71,\n",
       "   'wind_speed': 10.77,\n",
       "   'wind_deg': 330,\n",
       "   'wind_gust': 18.12,\n",
       "   'weather': [{'id': 600,\n",
       "     'main': 'Snow',\n",
       "     'description': 'небольшой снег',\n",
       "     'icon': '13d'}],\n",
       "   'clouds': 99,\n",
       "   'pop': 0.95,\n",
       "   'snow': 0.95,\n",
       "   'uvi': 0.58},\n",
       "  {'dt': 1642586400,\n",
       "   'sunrise': 1642571422,\n",
       "   'sunset': 1642602512,\n",
       "   'moonrise': 1642607340,\n",
       "   'moonset': 1642576080,\n",
       "   'moon_phase': 0.54,\n",
       "   'temp': {'day': -2.1,\n",
       "    'min': -6.44,\n",
       "    'max': -1.01,\n",
       "    'night': -3.16,\n",
       "    'eve': -2.71,\n",
       "    'morn': -6.44},\n",
       "   'feels_like': {'day': -6.76, 'night': -7.2, 'eve': -7.12, 'morn': -11.99},\n",
       "   'pressure': 1024,\n",
       "   'humidity': 65,\n",
       "   'dew_point': -7.99,\n",
       "   'wind_speed': 6.83,\n",
       "   'wind_deg': 343,\n",
       "   'wind_gust': 13.04,\n",
       "   'weather': [{'id': 804,\n",
       "     'main': 'Clouds',\n",
       "     'description': 'пасмурно',\n",
       "     'icon': '04d'}],\n",
       "   'clouds': 96,\n",
       "   'pop': 0,\n",
       "   'uvi': 0.59},\n",
       "  {'dt': 1642672800,\n",
       "   'sunrise': 1642657764,\n",
       "   'sunset': 1642689007,\n",
       "   'moonrise': 1642698120,\n",
       "   'moonset': 1642663920,\n",
       "   'moon_phase': 0.58,\n",
       "   'temp': {'day': 0.16,\n",
       "    'min': -2.81,\n",
       "    'max': 0.7,\n",
       "    'night': -0.26,\n",
       "    'eve': -0.68,\n",
       "    'morn': -1.72},\n",
       "   'feels_like': {'day': -4.94, 'night': -5.81, 'eve': -5.72, 'morn': -6.21},\n",
       "   'pressure': 1008,\n",
       "   'humidity': 68,\n",
       "   'dew_point': -5.31,\n",
       "   'wind_speed': 6.06,\n",
       "   'wind_deg': 258,\n",
       "   'wind_gust': 13.11,\n",
       "   'weather': [{'id': 600,\n",
       "     'main': 'Snow',\n",
       "     'description': 'небольшой снег',\n",
       "     'icon': '13d'}],\n",
       "   'clouds': 100,\n",
       "   'pop': 0.48,\n",
       "   'snow': 0.55,\n",
       "   'uvi': 0.71},\n",
       "  {'dt': 1642759200,\n",
       "   'sunrise': 1642744102,\n",
       "   'sunset': 1642775504,\n",
       "   'moonrise': 1642788960,\n",
       "   'moonset': 1642751460,\n",
       "   'moon_phase': 0.61,\n",
       "   'temp': {'day': -1.46,\n",
       "    'min': -3.83,\n",
       "    'max': -1.11,\n",
       "    'night': -2.28,\n",
       "    'eve': -1.88,\n",
       "    'morn': -3.83},\n",
       "   'feels_like': {'day': -8.46, 'night': -8.89, 'eve': -8.88, 'morn': -10.83},\n",
       "   'pressure': 1004,\n",
       "   'humidity': 76,\n",
       "   'dew_point': -5.23,\n",
       "   'wind_speed': 8.81,\n",
       "   'wind_deg': 257,\n",
       "   'wind_gust': 15.48,\n",
       "   'weather': [{'id': 600,\n",
       "     'main': 'Snow',\n",
       "     'description': 'небольшой снег',\n",
       "     'icon': '13d'}],\n",
       "   'clouds': 100,\n",
       "   'pop': 0.21,\n",
       "   'snow': 0.38,\n",
       "   'uvi': 0.5},\n",
       "  {'dt': 1642845600,\n",
       "   'sunrise': 1642830439,\n",
       "   'sunset': 1642862002,\n",
       "   'moonrise': 1642879860,\n",
       "   'moonset': 1642838820,\n",
       "   'moon_phase': 0.64,\n",
       "   'temp': {'day': -2.05,\n",
       "    'min': -4.89,\n",
       "    'max': -1.35,\n",
       "    'night': -4.89,\n",
       "    'eve': -2.57,\n",
       "    'morn': -3.6},\n",
       "   'feels_like': {'day': -7.2, 'night': -11.02, 'eve': -7.41, 'morn': -9.85},\n",
       "   'pressure': 1012,\n",
       "   'humidity': 89,\n",
       "   'dew_point': -3.78,\n",
       "   'wind_speed': 5.82,\n",
       "   'wind_deg': 274,\n",
       "   'wind_gust': 10.93,\n",
       "   'weather': [{'id': 600,\n",
       "     'main': 'Snow',\n",
       "     'description': 'небольшой снег',\n",
       "     'icon': '13d'}],\n",
       "   'clouds': 100,\n",
       "   'pop': 0.25,\n",
       "   'snow': 1.26,\n",
       "   'uvi': 0.62},\n",
       "  {'dt': 1642932000,\n",
       "   'sunrise': 1642916772,\n",
       "   'sunset': 1642948501,\n",
       "   'moonrise': 1642970760,\n",
       "   'moonset': 1642926120,\n",
       "   'moon_phase': 0.68,\n",
       "   'temp': {'day': -7.62,\n",
       "    'min': -9.7,\n",
       "    'max': -5.7,\n",
       "    'night': -9.7,\n",
       "    'eve': -7.71,\n",
       "    'morn': -6.74},\n",
       "   'feels_like': {'day': -14.39,\n",
       "    'night': -15.34,\n",
       "    'eve': -13.89,\n",
       "    'morn': -13.12},\n",
       "   'pressure': 1027,\n",
       "   'humidity': 82,\n",
       "   'dew_point': -10.69,\n",
       "   'wind_speed': 5.07,\n",
       "   'wind_deg': 350,\n",
       "   'wind_gust': 8.74,\n",
       "   'weather': [{'id': 600,\n",
       "     'main': 'Snow',\n",
       "     'description': 'небольшой снег',\n",
       "     'icon': '13d'}],\n",
       "   'clouds': 100,\n",
       "   'pop': 0.33,\n",
       "   'snow': 0.91,\n",
       "   'uvi': 1},\n",
       "  {'dt': 1643018400,\n",
       "   'sunrise': 1643003104,\n",
       "   'sunset': 1643035001,\n",
       "   'moonrise': 0,\n",
       "   'moonset': 1643013420,\n",
       "   'moon_phase': 0.71,\n",
       "   'temp': {'day': -8.47,\n",
       "    'min': -11.57,\n",
       "    'max': -6.57,\n",
       "    'night': -10.89,\n",
       "    'eve': -9.36,\n",
       "    'morn': -11.17},\n",
       "   'feels_like': {'day': -13.26,\n",
       "    'night': -10.89,\n",
       "    'eve': -12.51,\n",
       "    'morn': -16.55},\n",
       "   'pressure': 1037,\n",
       "   'humidity': 83,\n",
       "   'dew_point': -11.41,\n",
       "   'wind_speed': 2.87,\n",
       "   'wind_deg': 20,\n",
       "   'wind_gust': 6.66,\n",
       "   'weather': [{'id': 803,\n",
       "     'main': 'Clouds',\n",
       "     'description': 'облачно с прояснениями',\n",
       "     'icon': '04d'}],\n",
       "   'clouds': 82,\n",
       "   'pop': 0,\n",
       "   'uvi': 1},\n",
       "  {'dt': 1643104800,\n",
       "   'sunrise': 1643089433,\n",
       "   'sunset': 1643121502,\n",
       "   'moonrise': 1643061840,\n",
       "   'moonset': 1643100840,\n",
       "   'moon_phase': 0.75,\n",
       "   'temp': {'day': -7.12,\n",
       "    'min': -12.14,\n",
       "    'max': -4.83,\n",
       "    'night': -9.76,\n",
       "    'eve': -8.64,\n",
       "    'morn': -12.07},\n",
       "   'feels_like': {'day': -9.56,\n",
       "    'night': -14.65,\n",
       "    'eve': -11.91,\n",
       "    'morn': -12.07},\n",
       "   'pressure': 1034,\n",
       "   'humidity': 79,\n",
       "   'dew_point': -10.57,\n",
       "   'wind_speed': 2.55,\n",
       "   'wind_deg': 231,\n",
       "   'wind_gust': 5.2,\n",
       "   'weather': [{'id': 801,\n",
       "     'main': 'Clouds',\n",
       "     'description': 'небольшая облачность',\n",
       "     'icon': '02d'}],\n",
       "   'clouds': 16,\n",
       "   'pop': 0,\n",
       "   'uvi': 1}]}"
      ]
     },
     "execution_count": 12,
     "metadata": {},
     "output_type": "execute_result"
    }
   ],
   "source": [
    "r = response.json()\n",
    "r"
   ]
  },
  {
   "cell_type": "markdown",
   "id": "5165f78a",
   "metadata": {},
   "source": [
    "Отсюда мы можем достать данные о температуре за конкретные дни согласно [документации к API](https://openweathermap.org/api/one-call-api#how):"
   ]
  },
  {
   "cell_type": "code",
   "execution_count": 13,
   "id": "2203c010",
   "metadata": {},
   "outputs": [
    {
     "name": "stdout",
     "output_type": "stream",
     "text": [
      "['18.01.2022', '19.01.2022', '20.01.2022', '21.01.2022', '22.01.2022', '23.01.2022', '24.01.2022', '25.01.2022']\n",
      "[-2.5, -2.1, 0.16, -1.46, -2.05, -7.62, -8.47, -7.12]\n"
     ]
    }
   ],
   "source": [
    "date = []\n",
    "X = []\n",
    "for day in r['daily']:\n",
    "    date1 = datetime.datetime.utcfromtimestamp(day['dt']).replace(tzinfo=datetime.timezone.utc)\n",
    "    date.append(date1.strftime(\"%d.%m.%Y\"))\n",
    "    X.append(day['temp']['day'])\n",
    "print(date)\n",
    "print(X)"
   ]
  },
  {
   "cell_type": "markdown",
   "id": "e312446a",
   "metadata": {},
   "source": [
    "Строим прогноз и график, как в прошлом случае:"
   ]
  },
  {
   "cell_type": "code",
   "execution_count": 14,
   "id": "a347a593",
   "metadata": {},
   "outputs": [
    {
     "data": {
      "text/html": [
       "<div>\n",
       "<style scoped>\n",
       "    .dataframe tbody tr th:only-of-type {\n",
       "        vertical-align: middle;\n",
       "    }\n",
       "\n",
       "    .dataframe tbody tr th {\n",
       "        vertical-align: top;\n",
       "    }\n",
       "\n",
       "    .dataframe thead th {\n",
       "        text-align: right;\n",
       "    }\n",
       "</style>\n",
       "<table border=\"1\" class=\"dataframe\">\n",
       "  <thead>\n",
       "    <tr style=\"text-align: right;\">\n",
       "      <th></th>\n",
       "      <th>date</th>\n",
       "      <th>temp</th>\n",
       "      <th>pred_sales</th>\n",
       "    </tr>\n",
       "  </thead>\n",
       "  <tbody>\n",
       "    <tr>\n",
       "      <th>0</th>\n",
       "      <td>18.01.2022</td>\n",
       "      <td>-2.50</td>\n",
       "      <td>-8.777797</td>\n",
       "    </tr>\n",
       "    <tr>\n",
       "      <th>1</th>\n",
       "      <td>19.01.2022</td>\n",
       "      <td>-2.10</td>\n",
       "      <td>-0.200346</td>\n",
       "    </tr>\n",
       "    <tr>\n",
       "      <th>2</th>\n",
       "      <td>20.01.2022</td>\n",
       "      <td>0.16</td>\n",
       "      <td>48.262247</td>\n",
       "    </tr>\n",
       "    <tr>\n",
       "      <th>3</th>\n",
       "      <td>21.01.2022</td>\n",
       "      <td>-1.46</td>\n",
       "      <td>13.523574</td>\n",
       "    </tr>\n",
       "    <tr>\n",
       "      <th>4</th>\n",
       "      <td>22.01.2022</td>\n",
       "      <td>-2.05</td>\n",
       "      <td>0.871835</td>\n",
       "    </tr>\n",
       "    <tr>\n",
       "      <th>5</th>\n",
       "      <td>23.01.2022</td>\n",
       "      <td>-7.62</td>\n",
       "      <td>-118.569159</td>\n",
       "    </tr>\n",
       "    <tr>\n",
       "      <th>6</th>\n",
       "      <td>24.01.2022</td>\n",
       "      <td>-8.47</td>\n",
       "      <td>-136.796241</td>\n",
       "    </tr>\n",
       "    <tr>\n",
       "      <th>7</th>\n",
       "      <td>25.01.2022</td>\n",
       "      <td>-7.12</td>\n",
       "      <td>-107.847347</td>\n",
       "    </tr>\n",
       "  </tbody>\n",
       "</table>\n",
       "</div>"
      ],
      "text/plain": [
       "         date  temp  pred_sales\n",
       "0  18.01.2022 -2.50   -8.777797\n",
       "1  19.01.2022 -2.10   -0.200346\n",
       "2  20.01.2022  0.16   48.262247\n",
       "3  21.01.2022 -1.46   13.523574\n",
       "4  22.01.2022 -2.05    0.871835\n",
       "5  23.01.2022 -7.62 -118.569159\n",
       "6  24.01.2022 -8.47 -136.796241\n",
       "7  25.01.2022 -7.12 -107.847347"
      ]
     },
     "execution_count": 14,
     "metadata": {},
     "output_type": "execute_result"
    }
   ],
   "source": [
    "Y_pred = linear_regressor.predict(np.array(X).reshape(-1, 1)) \n",
    "df_res = pd.DataFrame({'date': date, 'temp': X, 'pred_sales': Y_pred.reshape(-1)})\n",
    "df_res"
   ]
  },
  {
   "cell_type": "markdown",
   "id": "3378e143",
   "metadata": {},
   "source": [
    "В предсказанных значениях появились минусы! Это могло произойти из-за того, что у нас нет примера продаж в холодное время года, и можно предположить, что продажи упадут достаточно сильно.\n",
    "\n",
    "В график добавим линию нулевых продаж:"
   ]
  },
  {
   "cell_type": "code",
   "execution_count": 15,
   "id": "712437c3",
   "metadata": {},
   "outputs": [
    {
     "data": {
      "image/png": "[encoded data removed]",
      "text/plain": [
       "<Figure size 720x576 with 1 Axes>"
      ]
     },
     "metadata": {
      "needs_background": "light"
     },
     "output_type": "display_data"
    }
   ],
   "source": [
    "xdata = np.arange(len(X))\n",
    "\n",
    "fig, ax = plt.subplots()\n",
    "plt.rcParams[\"figure.figsize\"] = (10,8)\n",
    "ax.plot(xdata, Y_pred)\n",
    "plt.axhline(y=0, color='r', linestyle='-')\n",
    "\n",
    "# Add labels to the plot\n",
    "style = dict(size=10, color='000')\n",
    "\n",
    "for i in range(len(xdata)):\n",
    "    ax.text(xdata[i]-0.2, Y_pred[i]+4.0, date[i], **style)\n",
    "\n",
    "\n",
    "ax.set_ylabel('Sales')\n",
    "ax.set_xlabel('Temperature °C')\n",
    "ax.set_title('Sales by temperature')\n",
    "ax.set_xticks(xdata)\n",
    "ax.set_xticklabels(X)\n",
    "\n",
    "plt.show()"
   ]
  },
  {
   "cell_type": "markdown",
   "id": "0c4d0f87",
   "metadata": {},
   "source": [
    "К графику добавлены значения дат, чтобы наглядно видеть прогноз."
   ]
  },
  {
   "cell_type": "code",
   "execution_count": null,
   "id": "10a8586c",
   "metadata": {},
   "outputs": [],
   "source": []
  }
 ],
 "metadata": {
  "kernelspec": {
   "display_name": "Python 3",
   "language": "python",
   "name": "python3"
  },
  "language_info": {
   "codemirror_mode": {
    "name": "ipython",
    "version": 3
   },
   "file_extension": ".py",
   "mimetype": "text/x-python",
   "name": "python",
   "nbconvert_exporter": "python",
   "pygments_lexer": "ipython3",
   "version": "3.9.4"
  }
 },
 "nbformat": 4,
 "nbformat_minor": 5
}
